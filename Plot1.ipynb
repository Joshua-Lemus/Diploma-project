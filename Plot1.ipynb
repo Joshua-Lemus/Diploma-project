{
 "cells": [
  {
   "cell_type": "code",
   "execution_count": null,
   "id": "2e3d05ca-f6cc-4a2e-b6d0-9a6deac9d9fd",
   "metadata": {},
   "outputs": [],
   "source": [
    "# general import\n",
    "import os\n",
    "import pickle\n",
    "from importlib import reload\n",
    "import numpy as np\n",
    "import matplotlib.pyplot as plt\n",
    "import time, datetime\n",
    "import copy\n",
    "\n",
    "# torch\n",
    "import torch\n",
    "import torch.nn as nn\n",
    "import torch.optim as optim\n",
    "\n",
    "# my own\n",
    "from tasks import get_data\n",
    "from myutils import *\n",
    "from topology import gen_lattice, compute_dist\n",
    "\n",
    "# increase cell width\n",
    "from IPython.display import display, HTML\n",
    "display(HTML(\"<style>.container { width:95% !important; }</style>\"))\n",
    "\n",
    "dtype = torch.float\n",
    "device = torch.device(\"cpu\")\n",
    "\n",
    "# SOME USEFUL DEFINITIONS\n",
    "relu = lambda x : (x > 0) * x\n",
    "def pr(h, b):\n",
    "    if b > 1e2:\n",
    "        return 1. * (h > 0)\n",
    "    else:\n",
    "        return np.exp(b * h) / (2 * np.cosh(b * h))"
   ]
  },
  {
   "cell_type": "code",
   "execution_count": null,
   "id": "132f7a4b-c274-4c35-913f-94f7d16355d2",
   "metadata": {},
   "outputs": [],
   "source": []
  }
 ],
 "metadata": {
  "kernelspec": {
   "display_name": "Python 3 (ipykernel)",
   "language": "python",
   "name": "python3"
  },
  "language_info": {
   "codemirror_mode": {
    "name": "ipython",
    "version": 3
   },
   "file_extension": ".py",
   "mimetype": "text/x-python",
   "name": "python",
   "nbconvert_exporter": "python",
   "pygments_lexer": "ipython3",
   "version": "3.8.10"
  }
 },
 "nbformat": 4,
 "nbformat_minor": 5
}
