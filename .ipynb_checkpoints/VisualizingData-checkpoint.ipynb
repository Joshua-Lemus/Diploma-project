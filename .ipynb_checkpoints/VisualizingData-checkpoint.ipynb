{
 "cells": [
  {
   "cell_type": "code",
   "execution_count": 1,
   "id": "e20796a9-c361-4c46-9af8-b8389905055b",
   "metadata": {},
   "outputs": [
    {
     "data": {
      "text/html": [
       "<style>.container { width:95% !important; }</style>"
      ],
      "text/plain": [
       "<IPython.core.display.HTML object>"
      ]
     },
     "metadata": {},
     "output_type": "display_data"
    }
   ],
   "source": [
    "# general import\n",
    "import os\n",
    "import pickle\n",
    "from importlib import reload\n",
    "import numpy as np\n",
    "import matplotlib.pyplot as plt\n",
    "import time, datetime\n",
    "import copy\n",
    "\n",
    "# torch\n",
    "import torch\n",
    "import torch.nn as nn\n",
    "import torch.optim as optim\n",
    "\n",
    "# my own\n",
    "from tasks import get_data\n",
    "from myutils import *\n",
    "from topology import gen_lattice, compute_dist\n",
    "\n",
    "# increase cell width\n",
    "from IPython.display import display, HTML\n",
    "display(HTML(\"<style>.container { width:95% !important; }</style>\"))\n",
    "\n",
    "dtype = torch.float\n",
    "device = torch.device(\"cpu\")\n",
    "\n",
    "# SOME USEFUL DEFINITIONS\n",
    "relu = lambda x : (x > 0) * x\n",
    "def pr(h, b):\n",
    "    if b > 1e2:\n",
    "        return 1. * (h > 0)\n",
    "    else:\n",
    "        return np.exp(b * h) / (2 * np.cosh(b * h))"
   ]
  },
  {
   "cell_type": "code",
   "execution_count": 8,
   "id": "3eac5665-62ed-494c-b68a-4af31243cfc4",
   "metadata": {},
   "outputs": [],
   "source": [
    "# SET MAIN PARAMS\n",
    "\n",
    "pars = Pars()\n",
    "\n",
    "## random task name\n",
    "pars.dataset = \"RANDOM\"\n",
    "# pars.dataset = \"RANDOM-Y\"\n",
    "# pars.dataset = \"NLGP\"\n",
    "# pars.dataset = \"RANDOM-FF-Teacher\"\n",
    "# pars.dataset = \"RANDOM-FF-Teacher-Y\"\n",
    "# pars.dataset = \"RANDOM-RNN-Teacher\"\n",
    "# pars.dataset = \"RANDOM-RNN-Teacher-X\"\n",
    "# pars.dataset = \"RANDOM-RNN-Teacher-Y\"\n",
    "\n",
    "## dataset name\n",
    "# pars.dataset = \"MNIST1D\"\n",
    "# pars.dataset = \"MNIST\"\n",
    "# pars.dataset = \"MNIST10\"\n",
    "# pars.dataset = \"FashionMNIST\"\n",
    "# pars.dataset = \"CIFAR10\"\n",
    "# pars.dataset = \"CIFAR100\"\n",
    "\n",
    "## random dataset options\n",
    "pars.alpha_train = 1 # fraction of training patterns wrt N in a random task\n",
    "pars.alpha_test = 1 # fraction of test patterns wrt N in a random task\n",
    "pars.span_h = False # generate all h in range (only makes sense for N=2 or N=3)\n",
    "pars.exp_input = False # exponentially distributed input (default is gaussian)\n",
    "pars.rho = 0. # input covariance\n",
    "\n",
    "## teacher-student FF options\n",
    "pars_teacher = {}\n",
    "# pars_teacher[\"K\"] = 1 # number of hidden units in the random teacher\n",
    "# pars_teacher[\"nonlinearity\"] = \"linear\" # activation function : sigmoid | tanh | erf | relu | linear\n",
    "# pars_teacher[\"g_bias_in\"] = 0. # gain for biases initialization\n",
    "# pars_teacher[\"soft_w\"] = True # constant output weights\n",
    "# pars_teacher[\"num_out\"] = 1 # number of output units \n",
    "# pars_teacher[\"g\"] = 1. # gain of ff weights\n",
    "# pars_teacher[\"J\"] = None # optionally make your own kind of teacher\n",
    "# pars.pars_teacher = pars_teacher\n",
    "\n",
    "# ## teacher-student RNN options\n",
    "# pars_teacher = {}\n",
    "# pars_teacher[\"K\"] = 40 # number of hidden units in the random teacher\n",
    "# pars_teacher[\"nonlinearity\"] = \"relu\" # activation function : sigmoid | tanh | erf | relu | linear\n",
    "# pars_teacher[\"discrete_time\"] = False # type of temporal dynamics\n",
    "# pars_teacher[\"dt\"] = 0.1 # time discretization\n",
    "# pars_teacher[\"eye_in\"] = True # identity input weights\n",
    "# pars_teacher[\"g_bias_in\"] = 0. # gain for biases initialization\n",
    "# pars_teacher[\"soft_w\"] = False # constant output weights\n",
    "# pars_teacher[\"num_out\"] = 1 # number of output units \n",
    "# pars_teacher[\"g\"] = 0.8 # gain of recurrent weights\n",
    "# pars_teacher[\"J\"] = None # optionally make your own kind of teacher\n",
    "# pars.pars_teacher = pars_teacher\n",
    "\n",
    "## NLGP specific options\n",
    "pars.torus = True # whether to use a torus topology\n",
    "pars.g_nonlin = 1e-10 # gain parameter for nonlinearity\n",
    "pars.xis = [2] # lenght-scales of mixtures\n",
    "\n",
    "## spatial options\n",
    "pars.dim = 1 # input dimension\n",
    "pars.lN = 5 # linear input size\n",
    "pars.normalize = False # normalize inputs (some dataset are already normalized)\n",
    "\n",
    "## misc options\n",
    "pars.seed_data = 1\n",
    "pars.data_dir = f'data'\n",
    "pars.save_dir = f'results_notebook'\n",
    "\n",
    "# # TO DIRECTLY DOWNLOAD MNIST1D USE THE FOLLOWING:\n",
    "# import requests\n",
    "# url = 'https://github.com/greydanus/mnist1d/raw/master/mnist1d_data.pkl'\n",
    "# r = requests.get(url, allow_redirects=True)\n",
    "# save_dir_dataset = save_dir + \"/\" + dataset\n",
    "# open(f'{data_dir}/mnist1d_data.pkl', 'wb').write(r.content)"
   ]
  },
  {
   "cell_type": "code",
   "execution_count": 9,
   "id": "34d1fa83-79ce-4c52-a7ba-2f5c95c814c2",
   "metadata": {},
   "outputs": [
    {
     "name": "stdout",
     "output_type": "stream",
     "text": [
      "1 dimensional inputs of size 5^1 = 5\n",
      "num train: 5, num test: None, num label: 2\n"
     ]
    }
   ],
   "source": [
    "# GET DATASET\n",
    "makedir(pars.data_dir)\n",
    "data_and_properties = get_data(pars, dtype=dtype, device=device)\n",
    "train_dataset, test_dataset, teacher_weights, x_teacher = data_and_properties\n",
    "print(f\"{pars.dim} dimensional inputs of size {pars.lN}^{pars.dim} = {pars.N}\")\n",
    "print(f\"num train: {pars.num_train}, num test: {pars.num_test}, num label: {pars.num_label}\")"
   ]
  },
  {
   "cell_type": "code",
   "execution_count": 16,
   "id": "90908cbf-2e3e-4da1-ad90-146d0cafbf29",
   "metadata": {},
   "outputs": [
    {
     "name": "stdout",
     "output_type": "stream",
     "text": [
      "5\n",
      "tensor([[ 1.6243, -0.6118, -0.5282, -1.0730,  0.8654],\n",
      "        [-2.3015,  1.7448, -0.7612,  0.3190, -0.2494],\n",
      "        [ 1.4621, -2.0601, -0.3224, -0.3841,  1.1338],\n",
      "        [-1.0999, -0.1724, -0.8779,  0.0422,  0.5828],\n",
      "        [-1.1006,  1.1447,  0.9016,  0.5025,  0.9009]])\n",
      "tensor([1., 1., 0., 1., 0.])\n",
      "tensor([ 1.6243, -0.6118, -0.5282, -1.0730,  0.8654, -2.3015,  1.7448, -0.7612,\n",
      "         0.3190, -0.2494,  1.4621, -2.0601, -0.3224, -0.3841,  1.1338, -1.0999,\n",
      "        -0.1724, -0.8779,  0.0422,  0.5828, -1.1006,  1.1447,  0.9016,  0.5025,\n",
      "         0.9009])\n"
     ]
    }
   ],
   "source": [
    "X_train, y_train = extract_tensors(train_dataset)\n",
    "print(pars.N)\n",
    "print(X_train)\n",
    "print(y_train)\n",
    "print(X_train.flatten())"
   ]
  },
  {
   "cell_type": "code",
   "execution_count": null,
   "id": "d2217e1d-0c65-4411-b7bc-3e65bb67e332",
   "metadata": {},
   "outputs": [],
   "source": []
  }
 ],
 "metadata": {
  "kernelspec": {
   "display_name": "Python 3 (ipykernel)",
   "language": "python",
   "name": "python3"
  },
  "language_info": {
   "codemirror_mode": {
    "name": "ipython",
    "version": 3
   },
   "file_extension": ".py",
   "mimetype": "text/x-python",
   "name": "python",
   "nbconvert_exporter": "python",
   "pygments_lexer": "ipython3",
   "version": "3.8.10"
  }
 },
 "nbformat": 4,
 "nbformat_minor": 5
}
